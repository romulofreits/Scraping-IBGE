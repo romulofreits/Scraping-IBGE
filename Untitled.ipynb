{
 "cells": [
  {
   "cell_type": "markdown",
   "id": "48ebbfef",
   "metadata": {},
   "source": [
    "## Ler tabelas em PDF"
   ]
  },
  {
   "cell_type": "code",
   "execution_count": 5,
   "id": "384a0974",
   "metadata": {},
   "outputs": [],
   "source": [
    "import os"
   ]
  },
  {
   "cell_type": "code",
   "execution_count": 6,
   "id": "44bd815c",
   "metadata": {},
   "outputs": [
    {
     "name": "stdout",
     "output_type": "stream",
     "text": [
      "Collecting PyPDF4\n",
      "  Downloading PyPDF4-1.27.0.tar.gz (63 kB)\n",
      "     --------------------------------------- 63.9/63.9 kB 58.2 kB/s eta 0:00:00\n",
      "  Preparing metadata (setup.py): started\n",
      "  Preparing metadata (setup.py): finished with status 'done'\n",
      "Building wheels for collected packages: PyPDF4\n",
      "  Building wheel for PyPDF4 (setup.py): started\n",
      "  Building wheel for PyPDF4 (setup.py): finished with status 'done'\n",
      "  Created wheel for PyPDF4: filename=PyPDF4-1.27.0-py3-none-any.whl size=61227 sha256=1c543073e38490527b2d1de798561727995b7f95d77c3bce9087cf04f5947dc6\n",
      "  Stored in directory: c:\\users\\apto4\\appdata\\local\\pip\\cache\\wheels\\cd\\0e\\4a\\e6f842a6035ccffff0dab29c39dd06c3427560a82783355a83\n",
      "Successfully built PyPDF4\n",
      "Installing collected packages: PyPDF4\n",
      "Successfully installed PyPDF4-1.27.0\n"
     ]
    }
   ],
   "source": [
    "try: # Checando se Scrapy está instalado\n",
    "    from PyPDF4 import PdfFileReader, PdfFileWriter\n",
    "except:\n",
    "    !pip install PyPDF4\n",
    "    from PyPDF4 import PdfFileReader, PdfFileWriter"
   ]
  },
  {
   "cell_type": "code",
   "execution_count": 7,
   "id": "6d541c8c",
   "metadata": {},
   "outputs": [],
   "source": [
    "arquivo1 = PdfFileReader('ResultadoVale.pdf', \"rb\") # Carregando o PDF"
   ]
  },
  {
   "cell_type": "code",
   "execution_count": 8,
   "id": "34bcbb64",
   "metadata": {},
   "outputs": [
    {
     "data": {
      "text/plain": [
       "16"
      ]
     },
     "execution_count": 8,
     "metadata": {},
     "output_type": "execute_result"
    }
   ],
   "source": [
    "arquivo1.getNumPages() # Retorna o total de páginas do arquivo"
   ]
  },
  {
   "cell_type": "code",
   "execution_count": 10,
   "id": "ec1ffde4",
   "metadata": {},
   "outputs": [
    {
     "ename": "NameError",
     "evalue": "name 'output' is not defined",
     "output_type": "error",
     "traceback": [
      "\u001b[1;31m---------------------------------------------------------------------------\u001b[0m",
      "\u001b[1;31mNameError\u001b[0m                                 Traceback (most recent call last)",
      "\u001b[1;32m~\\AppData\\Local\\Temp\\ipykernel_10928\\2574906696.py\u001b[0m in \u001b[0;36m<module>\u001b[1;34m\u001b[0m\n\u001b[0;32m      1\u001b[0m \u001b[1;32mwith\u001b[0m \u001b[0mopen\u001b[0m\u001b[1;33m(\u001b[0m\u001b[1;34m\"ResultadoVale.pdf\"\u001b[0m\u001b[1;33m,\u001b[0m \u001b[1;34m\"wb\"\u001b[0m\u001b[1;33m)\u001b[0m \u001b[1;32mas\u001b[0m \u001b[0moutputStream\u001b[0m\u001b[1;33m:\u001b[0m\u001b[1;33m\u001b[0m\u001b[1;33m\u001b[0m\u001b[0m\n\u001b[1;32m----> 2\u001b[1;33m     \u001b[0moutput\u001b[0m\u001b[1;33m.\u001b[0m\u001b[0mwrite\u001b[0m\u001b[1;33m(\u001b[0m\u001b[0moutputStream\u001b[0m\u001b[1;33m)\u001b[0m \u001b[1;31m# generate the Norma output file\u001b[0m\u001b[1;33m\u001b[0m\u001b[1;33m\u001b[0m\u001b[0m\n\u001b[0m",
      "\u001b[1;31mNameError\u001b[0m: name 'output' is not defined"
     ]
    }
   ],
   "source": [
    "with open(\"ResultadoVale.pdf\", \"wb\") as outputStream:\n",
    "    output.write(outputStream) # generate the Norma output file\n"
   ]
  },
  {
   "cell_type": "code",
   "execution_count": null,
   "id": "95da321a",
   "metadata": {},
   "outputs": [],
   "source": []
  }
 ],
 "metadata": {
  "kernelspec": {
   "display_name": "Python 3 (ipykernel)",
   "language": "python",
   "name": "python3"
  },
  "language_info": {
   "codemirror_mode": {
    "name": "ipython",
    "version": 3
   },
   "file_extension": ".py",
   "mimetype": "text/x-python",
   "name": "python",
   "nbconvert_exporter": "python",
   "pygments_lexer": "ipython3",
   "version": "3.9.13"
  }
 },
 "nbformat": 4,
 "nbformat_minor": 5
}
