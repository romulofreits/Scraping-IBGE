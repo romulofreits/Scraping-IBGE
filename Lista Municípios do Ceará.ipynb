{
 "cells": [
  {
   "cell_type": "code",
   "execution_count": 1,
   "id": "cac5aaee",
   "metadata": {},
   "outputs": [],
   "source": [
    "from bs4 import BeautifulSoup\n",
    "import requests\n",
    "import pandas as pd"
   ]
  },
  {
   "cell_type": "markdown",
   "id": "4c506aee",
   "metadata": {},
   "source": [
    "## Criando uma lista com os nomes de todos os municípios do Ceará"
   ]
  },
  {
   "cell_type": "code",
   "execution_count": 10,
   "id": "9daa1137",
   "metadata": {},
   "outputs": [],
   "source": [
    "# Site com todos os municípios do Ceará\n",
    "lista_munic = \"https://www.ipece.ce.gov.br/consulta-aos-mapas-e-legislacao/\""
   ]
  },
  {
   "cell_type": "code",
   "execution_count": 11,
   "id": "6c5602c5",
   "metadata": {},
   "outputs": [],
   "source": [
    "# Fazendo a requisição do site por meio do Requests\n",
    "resposta = requests.get(lista_munic)"
   ]
  },
  {
   "cell_type": "code",
   "execution_count": 12,
   "id": "8eee1c6e",
   "metadata": {},
   "outputs": [
    {
     "name": "stdout",
     "output_type": "stream",
     "text": [
      "<Response [200]>\n"
     ]
    }
   ],
   "source": [
    "print(resposta)"
   ]
  },
  {
   "cell_type": "code",
   "execution_count": 14,
   "id": "9503b305",
   "metadata": {},
   "outputs": [],
   "source": [
    "# Parsear o HTML da página com a biblioteca BeautifulSoup\n",
    "municipios = BeautifulSoup(resposta.text, 'html.parser') "
   ]
  },
  {
   "cell_type": "code",
   "execution_count": 15,
   "id": "9eb7d68a",
   "metadata": {},
   "outputs": [
    {
     "name": "stdout",
     "output_type": "stream",
     "text": [
      "﻿\n",
      "<!DOCTYPE html>\n",
      "<html lang=\"pt-br\">\n",
      " <head>\n",
      "  <meta charset=\"utf-8\"/>\n",
      "  <meta content=\"ie=edge\" http-equiv=\"x-ua-compatible\"/>\n",
      "  <meta content=\"no-transform\" http-equiv=\"cache-control\">\n",
      "   <meta content=\"width=device-width, initial-scale=1, minimum-scale=1\" name=\"viewport\"/>\n",
      "   <link href=\"data:;base64,iVBORw0KGgo=\" rel=\"icon\"/>\n",
      "   <link href=\"/css/global.css\" rel=\"stylesheet\"/>\n",
      "   <!--font awesome-->\n",
      "   <link href=\"/css/font-awesome/font-awesome.min.css\" rel=\"stylesheet\"/>\n",
      "   <base href=\"/\"/>\n",
      "  </meta>\n",
      " </head>\n",
      " <body class=\"estado\">\n",
      "  <!-- Componente principal -->\n",
      "  <app>\n",
      "  </app>\n",
      "  <!-- integrity gerado por https://www.srihash.org/ -->\n",
      "  <!-- polyfills para funcionar no IE -->\n",
      "  <script src=\"https://cdnjs.cloudflare.com/ajax/libs/es5-shim/4.5.7/es5-shim.min.js\">\n",
      "  </script>\n",
      "  <script src=\"https://cdnjs.cloudflare.com/ajax/libs/es5-shim/4.5.7/es5-sham.min.js\">\n",
      "  </script>\n",
      "  <script src=\"https://cdnjs.cloudflare.com/ajax/libs/json3/3.3.2/json3.min.js\">\n",
      "  </script>\n",
      "  <script src=\"https://cdnjs.cloudflare.com/ajax/libs/es6-shim/0.34.2/es6-shim.min.js\">\n",
      "  </script>\n",
      "  <!-- -->\n",
      "  <!-- Chart.js -->\n",
      "  <script src=\"chart.bundle.min.js\">\n",
      "  </script>\n",
      "  <!-- ANGULAR -->\n",
      "  <script src=\"/dist/vendor.js\">\n",
      "  </script>\n",
      "  <script src=\"/dist/main-client.js\">\n",
      "  </script>\n",
      "  <!-- -->\n",
      "  <!-- BARRA GOV.BR -->\n",
      "  <script defer=\"defer\" src=\"//barra.brasil.gov.br/barra_2.0.js\" type=\"text/javascript\">\n",
      "  </script>\n",
      "  <!-- -->\n",
      " </body>\n",
      "</html>\n"
     ]
    }
   ],
   "source": [
    "# Mostrando o HTML organizado\n",
    "print(site_ocara.prettify())"
   ]
  },
  {
   "cell_type": "code",
   "execution_count": 19,
   "id": "d63b0dea",
   "metadata": {},
   "outputs": [
    {
     "data": {
      "text/plain": [
       "[<strong>Abaiara</strong>,\n",
       " <strong>Acarape</strong>,\n",
       " <strong>Acaraú</strong>,\n",
       " <strong>Acopiara</strong>,\n",
       " <strong>Aiuaba</strong>,\n",
       " <strong>Alcântaras</strong>,\n",
       " <strong>Altaneira</strong>,\n",
       " <strong>Alto Santo</strong>,\n",
       " <strong>Amontada</strong>,\n",
       " <strong>Antonina do Norte</strong>,\n",
       " <strong>Apuiarés</strong>,\n",
       " <strong>Aquiraz</strong>,\n",
       " <strong>Aracati</strong>,\n",
       " <strong>Aracoiaba</strong>,\n",
       " <strong>Ararendá</strong>,\n",
       " <strong>Araripe</strong>,\n",
       " <strong>Aratuba</strong>,\n",
       " <strong>Arneiroz</strong>,\n",
       " <strong>Assaré</strong>,\n",
       " <strong>Aurora</strong>,\n",
       " <strong>Baixio</strong>,\n",
       " <strong>Banabuiú</strong>,\n",
       " <strong>Barbalha</strong>,\n",
       " <strong>Barreira</strong>,\n",
       " <strong>Barro</strong>,\n",
       " <strong>Barroquinha</strong>,\n",
       " <strong>Baturité</strong>,\n",
       " <strong>Beberibe</strong>,\n",
       " <strong>Bela Cruz</strong>,\n",
       " <strong>Boa Viagem</strong>,\n",
       " <strong>Brejo Santo</strong>,\n",
       " <strong>Camocim</strong>,\n",
       " <strong>Campos Sales</strong>,\n",
       " <strong>Canindé</strong>,\n",
       " <strong>Capistrano</strong>,\n",
       " <strong>Caridade</strong>,\n",
       " <strong>Caririaçu</strong>,\n",
       " <strong>Cariré</strong>,\n",
       " <strong>Cariús</strong>,\n",
       " <strong>Carnaubal</strong>,\n",
       " <strong>Cascavel</strong>,\n",
       " <strong>Catarina</strong>,\n",
       " <strong>Catunda</strong>,\n",
       " <strong>Caucaia</strong>,\n",
       " <strong>Cedro</strong>,\n",
       " <strong>Chaval</strong>,\n",
       " <strong>Chorozinho</strong>,\n",
       " <strong>Choró</strong>,\n",
       " <strong>Coreaú</strong>,\n",
       " <strong>Crateús</strong>,\n",
       " <strong>Crato</strong>,\n",
       " <strong>Croatá</strong>,\n",
       " <strong>Cruz</strong>,\n",
       " <strong>Deputado Irapuan Pinheiro</strong>,\n",
       " <strong>Ererê</strong>,\n",
       " <strong>Eusébio</strong>,\n",
       " <strong>Farias Brito</strong>,\n",
       " <strong>Forquilha</strong>,\n",
       " <strong>Fortaleza</strong>,\n",
       " <strong>Fortim</strong>,\n",
       " <strong>Frecheirinha</strong>,\n",
       " <strong>Gereral Sampaio</strong>,\n",
       " <strong>Granja</strong>,\n",
       " <strong>Granjeiro</strong>,\n",
       " <strong>Graça</strong>,\n",
       " <strong>Groaíras</strong>,\n",
       " <strong>Guaiúba</strong>,\n",
       " <strong>Guaraciaba do Norte</strong>,\n",
       " <strong>Guaramiranga</strong>,\n",
       " <strong>Hidrolândia</strong>,\n",
       " <strong>Horizonte</strong>,\n",
       " <strong>Ibaretama</strong>,\n",
       " <strong>Ibiapina</strong>,\n",
       " <strong>Ibicuitinga</strong>,\n",
       " <strong>Icapuí</strong>,\n",
       " <strong>Icó</strong>,\n",
       " <strong>Iguatu</strong>,\n",
       " <strong>Independência</strong>,\n",
       " <strong>Ipaporanga</strong>,\n",
       " <strong>Ipaumirim</strong>,\n",
       " <strong>Ipu</strong>,\n",
       " <strong>Ipueiras</strong>,\n",
       " <strong>Iracema</strong>,\n",
       " <strong>Irauçuba</strong>,\n",
       " <strong>Itaiçaba</strong>,\n",
       " <strong>Itaitinga</strong>,\n",
       " <strong>Itapajé</strong>,\n",
       " <strong>Itapipoca</strong>,\n",
       " <strong>Itapiúna</strong>,\n",
       " <strong>Itarema</strong>,\n",
       " <strong>Itatira</strong>,\n",
       " <strong>Jaguaretama</strong>,\n",
       " <strong>Jaguaribara</strong>,\n",
       " <strong>Jaguaribe</strong>,\n",
       " <strong>Jaguaruana</strong>,\n",
       " <strong>Jardim</strong>,\n",
       " <strong>Jati</strong>,\n",
       " <strong>Jijoca de Jericoacoara</strong>,\n",
       " <strong>Juazeiro do Norte</strong>,\n",
       " <strong>Jucás</strong>,\n",
       " <strong>Lavras da Mangabeira</strong>,\n",
       " <strong>Limoeiro do Norte</strong>,\n",
       " <strong>Madalena</strong>,\n",
       " <strong>Maracanaú</strong>,\n",
       " <strong>Maranguape</strong>,\n",
       " <strong>Marco</strong>,\n",
       " <strong>Martinólope</strong>,\n",
       " <strong>Massapê</strong>,\n",
       " <strong>Mauriti</strong>,\n",
       " <strong>Meruoca</strong>,\n",
       " <strong>Milagres</strong>,\n",
       " <strong>Milhã</strong>,\n",
       " <strong>Miraíma</strong>,\n",
       " <strong>Missão Velha</strong>,\n",
       " <strong>Mombaça</strong>,\n",
       " <strong>Monsenhor Tabosa</strong>,\n",
       " <strong>Morada Nova</strong>,\n",
       " <strong>Moraújo</strong>,\n",
       " <strong>Morrinhos</strong>,\n",
       " <strong>Mucambo</strong>,\n",
       " <strong>Mulungu</strong>,\n",
       " <strong>Nova Olinda</strong>,\n",
       " <strong>Nova Russas</strong>,\n",
       " <strong>Novo Oriente</strong>,\n",
       " <strong>Ocara</strong>,\n",
       " <strong>Orós</strong>,\n",
       " <strong>Pacajus</strong>,\n",
       " <strong>Pacatuba</strong>,\n",
       " <strong>Pacoti</strong>,\n",
       " <strong>Pacujá</strong>,\n",
       " <strong>Palhano</strong>,\n",
       " <strong>Palmácia</strong>,\n",
       " <strong>Paracuru</strong>,\n",
       " <strong>Paraipaba</strong>,\n",
       " <strong>Parambu</strong>,\n",
       " <strong>Paramoti</strong>,\n",
       " <strong>Pedra Branca</strong>,\n",
       " <strong>Penaforte</strong>,\n",
       " <strong>Pentecoste</strong>,\n",
       " <strong>Pereiro</strong>,\n",
       " <strong>Pindoretama</strong>,\n",
       " <strong>Piquet Carneiro</strong>,\n",
       " <strong>Pires Ferreira</strong>,\n",
       " <strong>Poranga</strong>,\n",
       " <strong>Porteiras</strong>,\n",
       " <strong>Potengi</strong>,\n",
       " <strong>Potiretama</strong>,\n",
       " <strong>Quiterianópolis</strong>,\n",
       " <strong>Quixadá</strong>,\n",
       " <strong>Quixelô</strong>,\n",
       " <strong>Quixeramobim</strong>,\n",
       " <strong>Quixeré</strong>,\n",
       " <strong>Redenção</strong>,\n",
       " <strong>Reriutaba</strong>,\n",
       " <strong>Russas</strong>,\n",
       " <strong>Saboeiro</strong>,\n",
       " <strong>Salitre</strong>,\n",
       " <strong>Santa Quitéria</strong>,\n",
       " <strong>Santana do Acaraú</strong>,\n",
       " <strong>Santana do Cariri</strong>,\n",
       " <strong>Senador Pompeu</strong>,\n",
       " <strong>Senador Sá</strong>,\n",
       " <strong>Sobral</strong>,\n",
       " <strong>Solonópole</strong>,\n",
       " <strong>São Benedito</strong>,\n",
       " <strong>São Gonçalo do Amarante</strong>,\n",
       " <strong>São João do Jaguaribe</strong>,\n",
       " <strong>São Luís do Curu</strong>,\n",
       " <strong>Tabuleiro do Norte</strong>,\n",
       " <strong>Tamboril</strong>,\n",
       " <strong>Tarrafas</strong>,\n",
       " <strong>Tauá</strong>,\n",
       " <strong>Tejuçuoca</strong>,\n",
       " <strong>Tianguá</strong>,\n",
       " <strong>Trairi</strong>,\n",
       " <strong>Tururu</strong>,\n",
       " <strong>Ubajara</strong>,\n",
       " <strong>Umari</strong>,\n",
       " <strong>Umirim</strong>,\n",
       " <strong>Uruburetama</strong>,\n",
       " <strong>Uruoca</strong>,\n",
       " <strong>Varjota</strong>,\n",
       " <strong>Várzea Alegre</strong>,\n",
       " <strong>Viçosa do Ceará</strong>]"
      ]
     },
     "execution_count": 19,
     "metadata": {},
     "output_type": "execute_result"
    }
   ],
   "source": [
    "# Selecionando a tag da página HTML que contém o conteúdo que queremos\n",
    "municipios = municipios.find_all(\"strong\")\n",
    "municipios"
   ]
  },
  {
   "cell_type": "code",
   "execution_count": 33,
   "id": "67a3e193",
   "metadata": {},
   "outputs": [
    {
     "data": {
      "text/plain": [
       "['Abaiara']"
      ]
     },
     "execution_count": 33,
     "metadata": {},
     "output_type": "execute_result"
    }
   ],
   "source": [
    "municipios[0].contents"
   ]
  },
  {
   "cell_type": "code",
   "execution_count": 21,
   "id": "00480051",
   "metadata": {},
   "outputs": [
    {
     "data": {
      "text/plain": [
       "184"
      ]
     },
     "execution_count": 21,
     "metadata": {},
     "output_type": "execute_result"
    }
   ],
   "source": [
    "len(municipios)"
   ]
  },
  {
   "cell_type": "code",
   "execution_count": 40,
   "id": "5efe6ba2",
   "metadata": {},
   "outputs": [],
   "source": [
    "# Fazendo um for para pegarmos todos os nomes dos municípios e armazená-los na variável munic_ceara\n",
    "munic_ceara = []\n",
    "for i in range(len(municipios)):\n",
    "    munic_ceara.append(municipios[i].text)"
   ]
  },
  {
   "cell_type": "code",
   "execution_count": 41,
   "id": "05601623",
   "metadata": {},
   "outputs": [
    {
     "name": "stdout",
     "output_type": "stream",
     "text": [
      "['Abaiara', 'Acarape', 'Acaraú', 'Acopiara', 'Aiuaba', 'Alcântaras', 'Altaneira', 'Alto Santo', 'Amontada', 'Antonina do Norte', 'Apuiarés', 'Aquiraz', 'Aracati', 'Aracoiaba', 'Ararendá', 'Araripe', 'Aratuba', 'Arneiroz', 'Assaré', 'Aurora', 'Baixio', 'Banabuiú', 'Barbalha', 'Barreira', 'Barro', 'Barroquinha', 'Baturité', 'Beberibe', 'Bela Cruz', 'Boa Viagem', 'Brejo Santo', 'Camocim', 'Campos Sales', 'Canindé', 'Capistrano', 'Caridade', 'Caririaçu', 'Cariré', 'Cariús', 'Carnaubal', 'Cascavel', 'Catarina', 'Catunda', 'Caucaia', 'Cedro', 'Chaval', 'Chorozinho', 'Choró', 'Coreaú', 'Crateús', 'Crato', 'Croatá', 'Cruz', 'Deputado Irapuan Pinheiro', 'Ererê', 'Eusébio', 'Farias Brito', 'Forquilha', 'Fortaleza', 'Fortim', 'Frecheirinha', 'Gereral Sampaio', 'Granja', 'Granjeiro', 'Graça', 'Groaíras', 'Guaiúba', 'Guaraciaba do Norte', 'Guaramiranga', 'Hidrolândia', 'Horizonte', 'Ibaretama', 'Ibiapina', 'Ibicuitinga', 'Icapuí', 'Icó', 'Iguatu', 'Independência', 'Ipaporanga', 'Ipaumirim', 'Ipu', 'Ipueiras', 'Iracema', 'Irauçuba', 'Itaiçaba', 'Itaitinga', 'Itapajé', 'Itapipoca', 'Itapiúna', 'Itarema', 'Itatira', 'Jaguaretama', 'Jaguaribara', 'Jaguaribe', 'Jaguaruana', 'Jardim', 'Jati', 'Jijoca de Jericoacoara', 'Juazeiro do Norte', 'Jucás', 'Lavras da Mangabeira', 'Limoeiro do Norte', 'Madalena', 'Maracanaú', 'Maranguape', 'Marco', 'Martinólope', 'Massapê', 'Mauriti', 'Meruoca', 'Milagres', 'Milhã', 'Miraíma', 'Missão Velha', 'Mombaça', 'Monsenhor Tabosa', 'Morada Nova', 'Moraújo', 'Morrinhos', 'Mucambo', 'Mulungu', 'Nova Olinda', 'Nova Russas', 'Novo Oriente', 'Ocara', 'Orós', 'Pacajus', 'Pacatuba', 'Pacoti', 'Pacujá', 'Palhano', 'Palmácia', 'Paracuru', 'Paraipaba', 'Parambu', 'Paramoti', 'Pedra Branca', 'Penaforte', 'Pentecoste', 'Pereiro', 'Pindoretama', 'Piquet Carneiro', 'Pires Ferreira', 'Poranga', 'Porteiras', 'Potengi', 'Potiretama', 'Quiterianópolis', 'Quixadá', 'Quixelô', 'Quixeramobim', 'Quixeré', 'Redenção', 'Reriutaba', 'Russas', 'Saboeiro', 'Salitre', 'Santa Quitéria', 'Santana do Acaraú', 'Santana do Cariri', 'Senador Pompeu', 'Senador Sá', 'Sobral', 'Solonópole', 'São Benedito', 'São Gonçalo do Amarante', 'São João do Jaguaribe', 'São Luís do Curu', 'Tabuleiro do Norte', 'Tamboril', 'Tarrafas', 'Tauá', 'Tejuçuoca', 'Tianguá', 'Trairi', 'Tururu', 'Ubajara', 'Umari', 'Umirim', 'Uruburetama', 'Uruoca', 'Varjota', 'Várzea Alegre', 'Viçosa do Ceará']\n"
     ]
    },
    {
     "data": {
      "text/plain": [
       "184"
      ]
     },
     "execution_count": 41,
     "metadata": {},
     "output_type": "execute_result"
    }
   ],
   "source": [
    "print(munic_ceara)\n",
    "len(munic_ceara)"
   ]
  }
 ],
 "metadata": {
  "kernelspec": {
   "display_name": "Python 3 (ipykernel)",
   "language": "python",
   "name": "python3"
  },
  "language_info": {
   "codemirror_mode": {
    "name": "ipython",
    "version": 3
   },
   "file_extension": ".py",
   "mimetype": "text/x-python",
   "name": "python",
   "nbconvert_exporter": "python",
   "pygments_lexer": "ipython3",
   "version": "3.9.13"
  }
 },
 "nbformat": 4,
 "nbformat_minor": 5
}
